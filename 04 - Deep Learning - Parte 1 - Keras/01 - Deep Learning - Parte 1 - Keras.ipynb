{
 "cells": [
  {
   "cell_type": "markdown",
   "metadata": {},
   "source": [
    "Imports"
   ]
  },
  {
   "cell_type": "code",
   "execution_count": 1,
   "metadata": {},
   "outputs": [],
   "source": [
    "import tensorflow\n",
    "from tensorflow import keras\n",
    "import matplotlib.pyplot as plt\n",
    "import numpy as np\n",
    "from tensorflow.keras.models import load_model"
   ]
  },
  {
   "cell_type": "markdown",
   "metadata": {},
   "source": [
    "Carregando o dataset"
   ]
  },
  {
   "cell_type": "code",
   "execution_count": 2,
   "metadata": {},
   "outputs": [
    {
     "name": "stdout",
     "output_type": "stream",
     "text": [
      "Downloading data from https://storage.googleapis.com/tensorflow/tf-keras-datasets/train-labels-idx1-ubyte.gz\n",
      "32768/29515 [=================================] - 0s 1us/step\n",
      "Downloading data from https://storage.googleapis.com/tensorflow/tf-keras-datasets/train-images-idx3-ubyte.gz\n",
      "26427392/26421880 [==============================] - 4s 0us/step\n",
      "Downloading data from https://storage.googleapis.com/tensorflow/tf-keras-datasets/t10k-labels-idx1-ubyte.gz\n",
      "8192/5148 [===============================================] - 0s 0s/step\n",
      "Downloading data from https://storage.googleapis.com/tensorflow/tf-keras-datasets/t10k-images-idx3-ubyte.gz\n",
      "4423680/4422102 [==============================] - 1s 0us/step\n"
     ]
    }
   ],
   "source": [
    "dataset = keras.datasets.fashion_mnist\n",
    "((imagens_treino,identificacao_treino),(imagens_teste, identificacoes_teste)) = dataset.load_data()\n"
   ]
  },
  {
   "cell_type": "markdown",
   "metadata": {},
   "source": [
    "Explorando os dados"
   ]
  },
  {
   "cell_type": "code",
   "execution_count": 3,
   "metadata": {},
   "outputs": [
    {
     "data": {
      "text/plain": [
       "9"
      ]
     },
     "execution_count": 3,
     "metadata": {},
     "output_type": "execute_result"
    }
   ],
   "source": [
    "len(imagens_treino)\n",
    "imagens_treino.shape\n",
    "imagens_teste.shape\n",
    "len(identificacao_treino)\n",
    "len(identificacoes_teste)\n",
    "identificacao_treino.min()\n",
    "identificacao_treino.max()"
   ]
  },
  {
   "cell_type": "markdown",
   "metadata": {},
   "source": [
    "Exibindo os dados"
   ]
  },
  {
   "cell_type": "code",
   "execution_count": 4,
   "metadata": {},
   "outputs": [],
   "source": [
    "total_de_classificacoes = 10\n",
    "nomes_de_classificacoes = [\"Camiseta\",\"Calça\", \"Pullover\", \"Vestido\",\n",
    "                          \"Casaco\", \"Sandália\", \"Camisa\",\"Tênis\",\n",
    "                          \"Bolsa\",\"Bota\"]"
   ]
  },
  {
   "cell_type": "code",
   "execution_count": 5,
   "metadata": {},
   "outputs": [
    {
     "data": {
      "text/plain": [
       "Text(0.5, 1.0, '9')"
      ]
     },
     "execution_count": 5,
     "metadata": {},
     "output_type": "execute_result"
    },
    {
     "data": {
      "image/png": "[encoded data removed]",
      "text/plain": [
       "<Figure size 432x288 with 1 Axes>"
      ]
     },
     "metadata": {
      "needs_background": "light"
     },
     "output_type": "display_data"
    }
   ],
   "source": [
    "plt.imshow(imagens_treino[0])\n",
    "plt.title(identificacao_treino[0])"
   ]
  },
  {
   "cell_type": "code",
   "execution_count": 6,
   "metadata": {},
   "outputs": [
    {
     "data": {
      "text/plain": [
       "<matplotlib.colorbar.Colorbar at 0x162ceef0>"
      ]
     },
     "execution_count": 6,
     "metadata": {},
     "output_type": "execute_result"
    },
    {
     "data": {
      "image/png": "[encoded data removed]",
      "text/plain": [
       "<Figure size 432x288 with 2 Axes>"
      ]
     },
     "metadata": {
      "needs_background": "light"
     },
     "output_type": "display_data"
    }
   ],
   "source": [
    "# for imagem in range(10):\n",
    "#     plt.subplot(2,5,imagem+1)\n",
    "#     plt.imshow(imagens_treino[imagem])\n",
    "#     plt.title(nomes_de_classificacoes[identificacao_treino[imagem]])\n",
    "    \n",
    "plt.imshow(imagens_treino[0])\n",
    "plt.colorbar()"
   ]
  },
  {
   "cell_type": "markdown",
   "metadata": {},
   "source": [
    "Normalizando as imagens"
   ]
  },
  {
   "cell_type": "code",
   "execution_count": 7,
   "metadata": {},
   "outputs": [],
   "source": [
    "# Normalização\n",
    "imagens_treino = imagens_treino/255.0"
   ]
  },
  {
   "cell_type": "markdown",
   "metadata": {},
   "source": [
    "Criando, compilando e treinando e normalizando o modelo"
   ]
  },
  {
   "cell_type": "code",
   "execution_count": 8,
   "metadata": {},
   "outputs": [
    {
     "name": "stdout",
     "output_type": "stream",
     "text": [
      "WARNING:tensorflow:From O:\\Anaconda3\\envs\\aluraenv\\lib\\site-packages\\tensorflow\\python\\ops\\resource_variable_ops.py:435: colocate_with (from tensorflow.python.framework.ops) is deprecated and will be removed in a future version.\n",
      "Instructions for updating:\n",
      "Colocations handled automatically by placer.\n",
      "WARNING:tensorflow:From O:\\Anaconda3\\envs\\aluraenv\\lib\\site-packages\\tensorflow\\python\\keras\\layers\\core.py:143: calling dropout (from tensorflow.python.ops.nn_ops) with keep_prob is deprecated and will be removed in a future version.\n",
      "Instructions for updating:\n",
      "Please use `rate` instead of `keep_prob`. Rate should be set to `rate = 1 - keep_prob`.\n",
      "Train on 48000 samples, validate on 12000 samples\n",
      "Epoch 1/5\n",
      "48000/48000 [==============================] - 6s 119us/sample - loss: 0.5231 - acc: 0.8149 - val_loss: 0.4174 - val_acc: 0.8501\n",
      "Epoch 2/5\n",
      "48000/48000 [==============================] - 6s 117us/sample - loss: 0.3948 - acc: 0.8564 - val_loss: 0.3929 - val_acc: 0.8574\n",
      "Epoch 3/5\n",
      "48000/48000 [==============================] - 5s 114us/sample - loss: 0.3623 - acc: 0.8678 - val_loss: 0.3458 - val_acc: 0.8737\n",
      "Epoch 4/5\n",
      "48000/48000 [==============================] - 5s 114us/sample - loss: 0.3397 - acc: 0.8740 - val_loss: 0.3395 - val_acc: 0.8774\n",
      "Epoch 5/5\n",
      "48000/48000 [==============================] - 6s 117us/sample - loss: 0.3203 - acc: 0.8826 - val_loss: 0.3231 - val_acc: 0.8839\n"
     ]
    }
   ],
   "source": [
    "modelo = keras.Sequential([\n",
    "    keras.layers.Flatten(input_shape=(28,28)), #camada 0 - Entrada\n",
    "    keras.layers.Dense(256,activation=tensorflow.nn.relu), #camada 1 - Processamento\n",
    "    keras.layers.Dropout(0.2),#camada 2 - Dropout\n",
    "#     keras.layers.Dense(128,activation=tensorflow.nn.relu),\n",
    "#     keras.layers.Dense(64,activation=tensorflow.nn.relu),\n",
    "    keras.layers.Dense(10,activation=tensorflow.nn.softmax) #camada 3 - Saída\n",
    "    \n",
    "])\n",
    "\n",
    "modelo.compile(optimizer=\"adam\",\n",
    "               loss=\"sparse_categorical_crossentropy\",metrics=[\"accuracy\"])\n",
    "\n",
    "historico = modelo.fit(imagens_treino, identificacao_treino,epochs=5,validation_split=0.2)"
   ]
  },
  {
   "cell_type": "markdown",
   "metadata": {},
   "source": [
    "Salvando e carregando o modelo treinado"
   ]
  },
  {
   "cell_type": "code",
   "execution_count": 9,
   "metadata": {},
   "outputs": [],
   "source": [
    "modelo.save(\"modelo_epochs5_nos3_no-gpu.h5\")\n",
    "modelo_salvo = load_model(\"modelo_epochs5_nos3_no-gpu.h5\")"
   ]
  },
  {
   "cell_type": "markdown",
   "metadata": {},
   "source": [
    "Visualizando as acurácias de treino e validação por época"
   ]
  },
  {
   "cell_type": "code",
   "execution_count": 10,
   "metadata": {},
   "outputs": [
    {
     "data": {
      "text/plain": [
       "<matplotlib.legend.Legend at 0x14a18470>"
      ]
     },
     "execution_count": 10,
     "metadata": {},
     "output_type": "execute_result"
    },
    {
     "data": {
      "image/png": "[encoded data removed]",
      "text/plain": [
       "<Figure size 432x288 with 1 Axes>"
      ]
     },
     "metadata": {
      "needs_background": "light"
     },
     "output_type": "display_data"
    }
   ],
   "source": [
    "plt.plot(historico.history[\"acc\"])\n",
    "plt.plot(historico.history[\"val_acc\"])\n",
    "plt.title(\"Acurácia por Épocas\")\n",
    "plt.xlabel(\"Épocas\")\n",
    "plt.ylabel(\"Acurácia\")\n",
    "plt.legend([\"treino\",\"validação\"])"
   ]
  },
  {
   "cell_type": "markdown",
   "metadata": {},
   "source": [
    "Se você perceber que a linha de treino está indo muito bem, enquanto a de teste está caindo, então terá um overfitting, ou seja, sua rede está entendendo o treino muito melhor do que a validação."
   ]
  },
  {
   "cell_type": "markdown",
   "metadata": {},
   "source": [
    "Visualizando as acurácias de treino e validação por época"
   ]
  },
  {
   "cell_type": "code",
   "execution_count": 11,
   "metadata": {},
   "outputs": [
    {
     "data": {
      "text/plain": [
       "<matplotlib.legend.Legend at 0x152a91d0>"
      ]
     },
     "execution_count": 11,
     "metadata": {},
     "output_type": "execute_result"
    },
    {
     "data": {
      "image/png": "[encoded data removed]",
      "text/plain": [
       "<Figure size 432x288 with 1 Axes>"
      ]
     },
     "metadata": {
      "needs_background": "light"
     },
     "output_type": "display_data"
    }
   ],
   "source": [
    "plt.plot(historico.history[\"loss\"])\n",
    "plt.plot(historico.history[\"val_loss\"])\n",
    "plt.title(\"Perda por Épocas\")\n",
    "plt.xlabel(\"Épocas\")\n",
    "plt.ylabel(\"Perda\")\n",
    "plt.legend([\"treino\",\"validação\"])"
   ]
  },
  {
   "cell_type": "markdown",
   "metadata": {},
   "source": [
    "E também, na perda, se percebermos que o erro de teste está muito menor que o de validação, também deve ter algo a ser ajustado, porque estamos nesta situação de entendermos o treino bem demais."
   ]
  },
  {
   "cell_type": "markdown",
   "metadata": {},
   "source": [
    "Testando o modelo salvo"
   ]
  },
  {
   "cell_type": "code",
   "execution_count": 12,
   "metadata": {},
   "outputs": [
    {
     "name": "stdout",
     "output_type": "stream",
     "text": [
      "Resultado teste: 2\n",
      "Número da imagem de teste: 2\n",
      "Resultado teste: 2\n",
      "Número da imagem de teste: 2\n"
     ]
    }
   ],
   "source": [
    "testes = modelo.predict(imagens_teste)\n",
    "print(\"Resultado teste:\",np.argmax(testes[1]))\n",
    "print(\"Número da imagem de teste:\", identificacoes_teste[1])\n",
    "\n",
    "testes_modelo_salvo = modelo_salvo.predict(imagens_teste)\n",
    "print(\"Resultado teste:\",np.argmax(testes_modelo_salvo[1]))\n",
    "print(\"Número da imagem de teste:\", identificacoes_teste[1])"
   ]
  },
  {
   "cell_type": "markdown",
   "metadata": {},
   "source": [
    "Avaliando o modelo"
   ]
  },
  {
   "cell_type": "code",
   "execution_count": 13,
   "metadata": {},
   "outputs": [
    {
     "name": "stdout",
     "output_type": "stream",
     "text": [
      "10000/10000 [==============================] - 0s 25us/sample - loss: 2.1336 - acc: 0.8647\n",
      "Perda do teste: 2.133601630508597 e Acurácia do teste: 0.8647000193595886\n"
     ]
    }
   ],
   "source": [
    "perda_teste, acuracia_teste = modelo.evaluate(imagens_teste,identificacoes_teste)\n",
    "print(f\"Perda do teste: {perda_teste} e Acurácia do teste: {acuracia_teste}\")"
   ]
  }
 ],
 "metadata": {
  "kernelspec": {
   "display_name": "Python 3",
   "language": "python",
   "name": "python3"
  },
  "language_info": {
   "codemirror_mode": {
    "name": "ipython",
    "version": 3
   },
   "file_extension": ".py",
   "mimetype": "text/x-python",
   "name": "python",
   "nbconvert_exporter": "python",
   "pygments_lexer": "ipython3",
   "version": "3.7.3"
  }
 },
 "nbformat": 4,
 "nbformat_minor": 2
}
